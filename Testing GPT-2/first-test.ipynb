{
 "cells": [
  {
   "cell_type": "code",
   "execution_count": 19,
   "metadata": {},
   "outputs": [],
   "source": [
    "from transformers import AutoTokenizer, AutoModelForCausalLM, pipeline"
   ]
  },
  {
   "cell_type": "code",
   "execution_count": 20,
   "metadata": {},
   "outputs": [
    {
     "name": "stderr",
     "output_type": "stream",
     "text": [
      "Downloading: 100%|██████████| 115/115 [00:00<00:00, 101kB/s]\n",
      "Downloading: 100%|██████████| 914/914 [00:00<00:00, 835kB/s]\n",
      "Downloading: 100%|██████████| 821k/821k [00:00<00:00, 1.65MB/s]\n",
      "Downloading: 100%|██████████| 487k/487k [00:00<00:00, 1.46MB/s]\n",
      "Downloading: 100%|██████████| 262/262 [00:00<00:00, 329kB/s]\n"
     ]
    }
   ],
   "source": [
    "tokenizer = AutoTokenizer.from_pretrained(\"DeepESP/gpt2-spanish\")"
   ]
  },
  {
   "cell_type": "code",
   "execution_count": 21,
   "metadata": {},
   "outputs": [
    {
     "name": "stderr",
     "output_type": "stream",
     "text": [
      "Downloading: 100%|██████████| 249M/249M [00:07<00:00, 33.9MB/s] \n"
     ]
    }
   ],
   "source": [
    "model = AutoModelForCausalLM.from_pretrained(\"DeepESP/gpt2-spanish\")"
   ]
  },
  {
   "cell_type": "code",
   "execution_count": 22,
   "metadata": {},
   "outputs": [],
   "source": [
    "generator = pipeline('text-generation', model='DeepESP/gpt2-spanish')"
   ]
  },
  {
   "cell_type": "code",
   "execution_count": 26,
   "metadata": {},
   "outputs": [
    {
     "name": "stderr",
     "output_type": "stream",
     "text": [
      "The attention mask and the pad token id were not set. As a consequence, you may observe unexpected behavior. Please pass your input's `attention_mask` to obtain reliable results.\n",
      "Setting `pad_token_id` to `eos_token_id`:50256 for open-end generation.\n"
     ]
    },
    {
     "name": "stdout",
     "output_type": "stream",
     "text": [
      "[{'generated_text': 'En un lugar de la mancha.... Y, a la vez siguiente, ¿qué? \\n\\nNo fue el único lugar de la mancha. \\n\\n¿Cómo lo habría sabido si no hubiera oído que la puerta del porche se abría? Pero ahora'}]\n"
     ]
    }
   ],
   "source": [
    "print(generator(\"En un lugar de la mancha....\",min_length=50))"
   ]
  },
  {
   "cell_type": "code",
   "execution_count": 27,
   "metadata": {},
   "outputs": [
    {
     "name": "stderr",
     "output_type": "stream",
     "text": [
      "The attention mask and the pad token id were not set. As a consequence, you may observe unexpected behavior. Please pass your input's `attention_mask` to obtain reliable results.\n",
      "Setting `pad_token_id` to `eos_token_id`:50256 for open-end generation.\n"
     ]
    },
    {
     "name": "stdout",
     "output_type": "stream",
     "text": [
      "[{'generated_text': 'Que las verdades sólo pueden aceptarse. \\n\\n\"El valor consiste en saber: las verdades, que no podemos decir con palabras sino con las palabras no pueden decirse. No existe relación sin una historia auténtica, sino con alguna otra cosa que no sea'}]\n"
     ]
    }
   ],
   "source": [
    "print(generator(\"Que las verdades\",min_length=10))"
   ]
  }
 ],
 "metadata": {
  "kernelspec": {
   "display_name": "Python 3.10.4 64-bit",
   "language": "python",
   "name": "python3"
  },
  "language_info": {
   "codemirror_mode": {
    "name": "ipython",
    "version": 3
   },
   "file_extension": ".py",
   "mimetype": "text/x-python",
   "name": "python",
   "nbconvert_exporter": "python",
   "pygments_lexer": "ipython3",
   "version": "3.10.4"
  },
  "orig_nbformat": 4,
  "vscode": {
   "interpreter": {
    "hash": "4f946df053fbf2b937619d3c5458e7af74262f9a954d8797ba0b27400bcafe06"
   }
  }
 },
 "nbformat": 4,
 "nbformat_minor": 2
}
